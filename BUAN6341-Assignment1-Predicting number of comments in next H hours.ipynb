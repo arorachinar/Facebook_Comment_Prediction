{
 "cells": [
  {
   "cell_type": "markdown",
   "metadata": {},
   "source": [
    "# ML Assignment: Submitted by Chinar Arora(CXA180005)"
   ]
  },
  {
   "cell_type": "code",
   "execution_count": 448,
   "metadata": {},
   "outputs": [],
   "source": [
    "import os\n",
    "from fnmatch import fnmatch\n",
    "import pandas as pd\n",
    "import matplotlib.pyplot as plt\n",
    "import numpy as np\n",
    "from sklearn.model_selection import train_test_split\n",
    "from sklearn import preprocessing\n",
    "import seaborn as sns\n",
    "\n",
    "import warnings\n",
    "warnings.filterwarnings('ignore')"
   ]
  },
  {
   "cell_type": "code",
   "execution_count": 2,
   "metadata": {},
   "outputs": [],
   "source": [
    "root = '/Users/chinararora/Documents/Semester_2@UTD/ML/Assignment-1/Dataset/Data'\n",
    "pattern = \"*.csv\"\n",
    "csv_list = []\n",
    "for path, subdirs, files in os.walk(root):\n",
    "    for name in files:\n",
    "        if fnmatch(name, pattern):\n",
    "            csv_list.append(os.path.join(path, name))"
   ]
  },
  {
   "cell_type": "code",
   "execution_count": 3,
   "metadata": {},
   "outputs": [],
   "source": [
    "csv_out = 'consolidated.csv'\n",
    "csv_header = 'Page_Popularity,Page_Checkins,Page_talking_about,Page_category,Min_E1,Max_E1,Avg_E1,Median_E1,Std_E1,Min_E2,Max_E2,Avg_E2,Median_E2,Std_E2,Min_E3,Max_E3,Avg_E3,Median_E3,Std_E3,Min_E4,Max_E4,Avg_E4,Median_E4,Std_E4,Min_E5,Max_E5,Avg_E5,Median_E5,Std_E5,CC1,CC2,CC3,CC4,CC5,Base_Time,Post_length,Post_share_count,Post_promotion_status,H_local,Post_Sunday,Post_Monday,Post_Tuesday,Post_Wednesday,Post_Thursday,Post_Friday,Post_Saturday,Base_Sunday,Base_Monday,Base_Tuesday,Base_Wednesday,Base_Thursday,Base_Friday,Base_Saturday,Comments_Next_Hhours'\n",
    "csv_merge = open(csv_out, 'w')\n",
    "csv_merge.write(csv_header)\n",
    "csv_merge.write('\\n')\n",
    "\n",
    "for file in csv_list:\n",
    "    \n",
    "    csv_in = open(file)\n",
    "    for line in csv_in: \n",
    "        csv_merge.write(line)"
   ]
  },
  {
   "cell_type": "code",
   "execution_count": 333,
   "metadata": {},
   "outputs": [
    {
     "data": {
      "text/html": [
       "<div>\n",
       "<style scoped>\n",
       "    .dataframe tbody tr th:only-of-type {\n",
       "        vertical-align: middle;\n",
       "    }\n",
       "\n",
       "    .dataframe tbody tr th {\n",
       "        vertical-align: top;\n",
       "    }\n",
       "\n",
       "    .dataframe thead th {\n",
       "        text-align: right;\n",
       "    }\n",
       "</style>\n",
       "<table border=\"1\" class=\"dataframe\">\n",
       "  <thead>\n",
       "    <tr style=\"text-align: right;\">\n",
       "      <th></th>\n",
       "      <th>Page_Popularity</th>\n",
       "      <th>Page_Checkins</th>\n",
       "      <th>Page_talking_about</th>\n",
       "      <th>Page_category</th>\n",
       "      <th>Min_E1</th>\n",
       "      <th>Max_E1</th>\n",
       "      <th>Avg_E1</th>\n",
       "      <th>Median_E1</th>\n",
       "      <th>Std_E1</th>\n",
       "      <th>Min_E2</th>\n",
       "      <th>...</th>\n",
       "      <th>Post_Friday</th>\n",
       "      <th>Post_Saturday</th>\n",
       "      <th>Base_Sunday</th>\n",
       "      <th>Base_Monday</th>\n",
       "      <th>Base_Tuesday</th>\n",
       "      <th>Base_Wednesday</th>\n",
       "      <th>Base_Thursday</th>\n",
       "      <th>Base_Friday</th>\n",
       "      <th>Base_Saturday</th>\n",
       "      <th>Comments_Next_Hhours</th>\n",
       "    </tr>\n",
       "  </thead>\n",
       "  <tbody>\n",
       "    <tr>\n",
       "      <th>0</th>\n",
       "      <td>634995</td>\n",
       "      <td>0</td>\n",
       "      <td>463</td>\n",
       "      <td>1</td>\n",
       "      <td>0.0</td>\n",
       "      <td>1279.0</td>\n",
       "      <td>13.214829</td>\n",
       "      <td>1.0</td>\n",
       "      <td>96.799769</td>\n",
       "      <td>0.0</td>\n",
       "      <td>...</td>\n",
       "      <td>0</td>\n",
       "      <td>0</td>\n",
       "      <td>0</td>\n",
       "      <td>0</td>\n",
       "      <td>0</td>\n",
       "      <td>0</td>\n",
       "      <td>0</td>\n",
       "      <td>1</td>\n",
       "      <td>0</td>\n",
       "      <td>0</td>\n",
       "    </tr>\n",
       "    <tr>\n",
       "      <th>1</th>\n",
       "      <td>634995</td>\n",
       "      <td>0</td>\n",
       "      <td>463</td>\n",
       "      <td>1</td>\n",
       "      <td>0.0</td>\n",
       "      <td>1279.0</td>\n",
       "      <td>13.214829</td>\n",
       "      <td>1.0</td>\n",
       "      <td>96.799769</td>\n",
       "      <td>0.0</td>\n",
       "      <td>...</td>\n",
       "      <td>0</td>\n",
       "      <td>0</td>\n",
       "      <td>0</td>\n",
       "      <td>0</td>\n",
       "      <td>0</td>\n",
       "      <td>0</td>\n",
       "      <td>0</td>\n",
       "      <td>0</td>\n",
       "      <td>1</td>\n",
       "      <td>0</td>\n",
       "    </tr>\n",
       "    <tr>\n",
       "      <th>2</th>\n",
       "      <td>634995</td>\n",
       "      <td>0</td>\n",
       "      <td>463</td>\n",
       "      <td>1</td>\n",
       "      <td>0.0</td>\n",
       "      <td>1279.0</td>\n",
       "      <td>13.214829</td>\n",
       "      <td>1.0</td>\n",
       "      <td>96.799769</td>\n",
       "      <td>0.0</td>\n",
       "      <td>...</td>\n",
       "      <td>1</td>\n",
       "      <td>0</td>\n",
       "      <td>1</td>\n",
       "      <td>0</td>\n",
       "      <td>0</td>\n",
       "      <td>0</td>\n",
       "      <td>0</td>\n",
       "      <td>0</td>\n",
       "      <td>0</td>\n",
       "      <td>0</td>\n",
       "    </tr>\n",
       "    <tr>\n",
       "      <th>3</th>\n",
       "      <td>634995</td>\n",
       "      <td>0</td>\n",
       "      <td>463</td>\n",
       "      <td>1</td>\n",
       "      <td>0.0</td>\n",
       "      <td>1279.0</td>\n",
       "      <td>13.214829</td>\n",
       "      <td>1.0</td>\n",
       "      <td>96.799769</td>\n",
       "      <td>0.0</td>\n",
       "      <td>...</td>\n",
       "      <td>1</td>\n",
       "      <td>0</td>\n",
       "      <td>1</td>\n",
       "      <td>0</td>\n",
       "      <td>0</td>\n",
       "      <td>0</td>\n",
       "      <td>0</td>\n",
       "      <td>0</td>\n",
       "      <td>0</td>\n",
       "      <td>0</td>\n",
       "    </tr>\n",
       "    <tr>\n",
       "      <th>4</th>\n",
       "      <td>634995</td>\n",
       "      <td>0</td>\n",
       "      <td>463</td>\n",
       "      <td>1</td>\n",
       "      <td>0.0</td>\n",
       "      <td>1279.0</td>\n",
       "      <td>13.214829</td>\n",
       "      <td>1.0</td>\n",
       "      <td>96.799769</td>\n",
       "      <td>0.0</td>\n",
       "      <td>...</td>\n",
       "      <td>0</td>\n",
       "      <td>0</td>\n",
       "      <td>0</td>\n",
       "      <td>0</td>\n",
       "      <td>0</td>\n",
       "      <td>0</td>\n",
       "      <td>1</td>\n",
       "      <td>0</td>\n",
       "      <td>0</td>\n",
       "      <td>0</td>\n",
       "    </tr>\n",
       "  </tbody>\n",
       "</table>\n",
       "<p>5 rows × 54 columns</p>\n",
       "</div>"
      ],
      "text/plain": [
       "   Page_Popularity  Page_Checkins  Page_talking_about  Page_category  Min_E1  \\\n",
       "0           634995              0                 463              1     0.0   \n",
       "1           634995              0                 463              1     0.0   \n",
       "2           634995              0                 463              1     0.0   \n",
       "3           634995              0                 463              1     0.0   \n",
       "4           634995              0                 463              1     0.0   \n",
       "\n",
       "   Max_E1     Avg_E1  Median_E1     Std_E1  Min_E2          ...           \\\n",
       "0  1279.0  13.214829        1.0  96.799769     0.0          ...            \n",
       "1  1279.0  13.214829        1.0  96.799769     0.0          ...            \n",
       "2  1279.0  13.214829        1.0  96.799769     0.0          ...            \n",
       "3  1279.0  13.214829        1.0  96.799769     0.0          ...            \n",
       "4  1279.0  13.214829        1.0  96.799769     0.0          ...            \n",
       "\n",
       "   Post_Friday  Post_Saturday  Base_Sunday  Base_Monday  Base_Tuesday  \\\n",
       "0            0              0            0            0             0   \n",
       "1            0              0            0            0             0   \n",
       "2            1              0            1            0             0   \n",
       "3            1              0            1            0             0   \n",
       "4            0              0            0            0             0   \n",
       "\n",
       "   Base_Wednesday  Base_Thursday  Base_Friday  Base_Saturday  \\\n",
       "0               0              0            1              0   \n",
       "1               0              0            0              1   \n",
       "2               0              0            0              0   \n",
       "3               0              0            0              0   \n",
       "4               0              1            0              0   \n",
       "\n",
       "   Comments_Next_Hhours  \n",
       "0                     0  \n",
       "1                     0  \n",
       "2                     0  \n",
       "3                     0  \n",
       "4                     0  \n",
       "\n",
       "[5 rows x 54 columns]"
      ]
     },
     "execution_count": 333,
     "metadata": {},
     "output_type": "execute_result"
    }
   ],
   "source": [
    "df=pd.read_csv(csv_out)\n",
    "df.head()"
   ]
  },
  {
   "cell_type": "code",
   "execution_count": 5,
   "metadata": {},
   "outputs": [
    {
     "data": {
      "text/plain": [
       "(161410, 54)"
      ]
     },
     "execution_count": 5,
     "metadata": {},
     "output_type": "execute_result"
    }
   ],
   "source": [
    "df.shape"
   ]
  },
  {
   "cell_type": "code",
   "execution_count": 6,
   "metadata": {},
   "outputs": [
    {
     "data": {
      "text/plain": [
       "Index(['Page_Popularity', 'Page_Checkins', 'Page_talking_about',\n",
       "       'Page_category', 'Min_E1', 'Max_E1', 'Avg_E1', 'Median_E1', 'Std_E1',\n",
       "       'Min_E2', 'Max_E2', 'Avg_E2', 'Median_E2', 'Std_E2', 'Min_E3', 'Max_E3',\n",
       "       'Avg_E3', 'Median_E3', 'Std_E3', 'Min_E4', 'Max_E4', 'Avg_E4',\n",
       "       'Median_E4', 'Std_E4', 'Min_E5', 'Max_E5', 'Avg_E5', 'Median_E5',\n",
       "       'Std_E5', 'CC1', 'CC2', 'CC3', 'CC4', 'CC5', 'Base_Time', 'Post_length',\n",
       "       'Post_share_count', 'Post_promotion_status', 'H_local', 'Post_Sunday',\n",
       "       'Post_Monday', 'Post_Tuesday', 'Post_Wednesday', 'Post_Thursday',\n",
       "       'Post_Friday', 'Post_Saturday', 'Base_Sunday', 'Base_Monday',\n",
       "       'Base_Tuesday', 'Base_Wednesday', 'Base_Thursday', 'Base_Friday',\n",
       "       'Base_Saturday', 'Comments_Next_Hhours'],\n",
       "      dtype='object')"
      ]
     },
     "execution_count": 6,
     "metadata": {},
     "output_type": "execute_result"
    }
   ],
   "source": [
    "df.columns"
   ]
  },
  {
   "cell_type": "code",
   "execution_count": 7,
   "metadata": {},
   "outputs": [],
   "source": [
    "#df.info()"
   ]
  },
  {
   "cell_type": "markdown",
   "metadata": {},
   "source": [
    "#### Randomly partitioning dataset using 70/30 split rule "
   ]
  },
  {
   "cell_type": "code",
   "execution_count": 334,
   "metadata": {},
   "outputs": [],
   "source": [
    "xTrain, xTest, yTrain, yTest = train_test_split(df.iloc[:,0:53],df.iloc[:,-1], test_size = 0.3, random_state = 0)"
   ]
  },
  {
   "cell_type": "code",
   "execution_count": 9,
   "metadata": {},
   "outputs": [
    {
     "data": {
      "text/html": [
       "<div>\n",
       "<style scoped>\n",
       "    .dataframe tbody tr th:only-of-type {\n",
       "        vertical-align: middle;\n",
       "    }\n",
       "\n",
       "    .dataframe tbody tr th {\n",
       "        vertical-align: top;\n",
       "    }\n",
       "\n",
       "    .dataframe thead th {\n",
       "        text-align: right;\n",
       "    }\n",
       "</style>\n",
       "<table border=\"1\" class=\"dataframe\">\n",
       "  <thead>\n",
       "    <tr style=\"text-align: right;\">\n",
       "      <th></th>\n",
       "      <th>Page_Popularity</th>\n",
       "      <th>Page_Checkins</th>\n",
       "      <th>Page_talking_about</th>\n",
       "      <th>Page_category</th>\n",
       "      <th>Min_E1</th>\n",
       "      <th>Max_E1</th>\n",
       "      <th>Avg_E1</th>\n",
       "      <th>Median_E1</th>\n",
       "      <th>Std_E1</th>\n",
       "      <th>Min_E2</th>\n",
       "      <th>...</th>\n",
       "      <th>Post_Thursday</th>\n",
       "      <th>Post_Friday</th>\n",
       "      <th>Post_Saturday</th>\n",
       "      <th>Base_Sunday</th>\n",
       "      <th>Base_Monday</th>\n",
       "      <th>Base_Tuesday</th>\n",
       "      <th>Base_Wednesday</th>\n",
       "      <th>Base_Thursday</th>\n",
       "      <th>Base_Friday</th>\n",
       "      <th>Base_Saturday</th>\n",
       "    </tr>\n",
       "  </thead>\n",
       "  <tbody>\n",
       "    <tr>\n",
       "      <th>143059</th>\n",
       "      <td>1340759</td>\n",
       "      <td>33935</td>\n",
       "      <td>49392</td>\n",
       "      <td>9</td>\n",
       "      <td>0.0</td>\n",
       "      <td>591.0</td>\n",
       "      <td>58.654066</td>\n",
       "      <td>32.0</td>\n",
       "      <td>82.057083</td>\n",
       "      <td>0.0</td>\n",
       "      <td>...</td>\n",
       "      <td>0</td>\n",
       "      <td>1</td>\n",
       "      <td>0</td>\n",
       "      <td>0</td>\n",
       "      <td>0</td>\n",
       "      <td>0</td>\n",
       "      <td>0</td>\n",
       "      <td>0</td>\n",
       "      <td>0</td>\n",
       "      <td>1</td>\n",
       "    </tr>\n",
       "    <tr>\n",
       "      <th>84923</th>\n",
       "      <td>3280313</td>\n",
       "      <td>1</td>\n",
       "      <td>39324</td>\n",
       "      <td>14</td>\n",
       "      <td>0.0</td>\n",
       "      <td>1609.0</td>\n",
       "      <td>195.898477</td>\n",
       "      <td>141.5</td>\n",
       "      <td>197.891384</td>\n",
       "      <td>0.0</td>\n",
       "      <td>...</td>\n",
       "      <td>0</td>\n",
       "      <td>1</td>\n",
       "      <td>0</td>\n",
       "      <td>0</td>\n",
       "      <td>1</td>\n",
       "      <td>0</td>\n",
       "      <td>0</td>\n",
       "      <td>0</td>\n",
       "      <td>0</td>\n",
       "      <td>0</td>\n",
       "    </tr>\n",
       "    <tr>\n",
       "      <th>127752</th>\n",
       "      <td>274207</td>\n",
       "      <td>0</td>\n",
       "      <td>100435</td>\n",
       "      <td>18</td>\n",
       "      <td>0.0</td>\n",
       "      <td>664.0</td>\n",
       "      <td>130.589330</td>\n",
       "      <td>79.0</td>\n",
       "      <td>131.079556</td>\n",
       "      <td>0.0</td>\n",
       "      <td>...</td>\n",
       "      <td>1</td>\n",
       "      <td>0</td>\n",
       "      <td>0</td>\n",
       "      <td>0</td>\n",
       "      <td>0</td>\n",
       "      <td>0</td>\n",
       "      <td>0</td>\n",
       "      <td>0</td>\n",
       "      <td>1</td>\n",
       "      <td>0</td>\n",
       "    </tr>\n",
       "    <tr>\n",
       "      <th>52483</th>\n",
       "      <td>3159268</td>\n",
       "      <td>0</td>\n",
       "      <td>155474</td>\n",
       "      <td>73</td>\n",
       "      <td>0.0</td>\n",
       "      <td>127.0</td>\n",
       "      <td>17.308756</td>\n",
       "      <td>13.0</td>\n",
       "      <td>19.242368</td>\n",
       "      <td>0.0</td>\n",
       "      <td>...</td>\n",
       "      <td>0</td>\n",
       "      <td>0</td>\n",
       "      <td>0</td>\n",
       "      <td>0</td>\n",
       "      <td>0</td>\n",
       "      <td>0</td>\n",
       "      <td>1</td>\n",
       "      <td>0</td>\n",
       "      <td>0</td>\n",
       "      <td>0</td>\n",
       "    </tr>\n",
       "    <tr>\n",
       "      <th>52516</th>\n",
       "      <td>3159268</td>\n",
       "      <td>0</td>\n",
       "      <td>155474</td>\n",
       "      <td>73</td>\n",
       "      <td>0.0</td>\n",
       "      <td>127.0</td>\n",
       "      <td>17.308756</td>\n",
       "      <td>13.0</td>\n",
       "      <td>19.242368</td>\n",
       "      <td>0.0</td>\n",
       "      <td>...</td>\n",
       "      <td>0</td>\n",
       "      <td>0</td>\n",
       "      <td>0</td>\n",
       "      <td>0</td>\n",
       "      <td>0</td>\n",
       "      <td>0</td>\n",
       "      <td>0</td>\n",
       "      <td>1</td>\n",
       "      <td>0</td>\n",
       "      <td>0</td>\n",
       "    </tr>\n",
       "  </tbody>\n",
       "</table>\n",
       "<p>5 rows × 53 columns</p>\n",
       "</div>"
      ],
      "text/plain": [
       "        Page_Popularity  Page_Checkins  Page_talking_about  Page_category  \\\n",
       "143059          1340759          33935               49392              9   \n",
       "84923           3280313              1               39324             14   \n",
       "127752           274207              0              100435             18   \n",
       "52483           3159268              0              155474             73   \n",
       "52516           3159268              0              155474             73   \n",
       "\n",
       "        Min_E1  Max_E1      Avg_E1  Median_E1      Std_E1  Min_E2  \\\n",
       "143059     0.0   591.0   58.654066       32.0   82.057083     0.0   \n",
       "84923      0.0  1609.0  195.898477      141.5  197.891384     0.0   \n",
       "127752     0.0   664.0  130.589330       79.0  131.079556     0.0   \n",
       "52483      0.0   127.0   17.308756       13.0   19.242368     0.0   \n",
       "52516      0.0   127.0   17.308756       13.0   19.242368     0.0   \n",
       "\n",
       "            ...        Post_Thursday  Post_Friday  Post_Saturday  Base_Sunday  \\\n",
       "143059      ...                    0            1              0            0   \n",
       "84923       ...                    0            1              0            0   \n",
       "127752      ...                    1            0              0            0   \n",
       "52483       ...                    0            0              0            0   \n",
       "52516       ...                    0            0              0            0   \n",
       "\n",
       "        Base_Monday  Base_Tuesday  Base_Wednesday  Base_Thursday  Base_Friday  \\\n",
       "143059            0             0               0              0            0   \n",
       "84923             1             0               0              0            0   \n",
       "127752            0             0               0              0            1   \n",
       "52483             0             0               1              0            0   \n",
       "52516             0             0               0              1            0   \n",
       "\n",
       "        Base_Saturday  \n",
       "143059              1  \n",
       "84923               0  \n",
       "127752              0  \n",
       "52483               0  \n",
       "52516               0  \n",
       "\n",
       "[5 rows x 53 columns]"
      ]
     },
     "execution_count": 9,
     "metadata": {},
     "output_type": "execute_result"
    }
   ],
   "source": [
    "xTrain.head()"
   ]
  },
  {
   "cell_type": "code",
   "execution_count": 12,
   "metadata": {},
   "outputs": [
    {
     "data": {
      "text/plain": [
       "(112987, 53)"
      ]
     },
     "execution_count": 12,
     "metadata": {},
     "output_type": "execute_result"
    }
   ],
   "source": [
    "xTrain.shape"
   ]
  },
  {
   "cell_type": "code",
   "execution_count": 11,
   "metadata": {},
   "outputs": [
    {
     "data": {
      "text/plain": [
       "(48423, 53)"
      ]
     },
     "execution_count": 11,
     "metadata": {},
     "output_type": "execute_result"
    }
   ],
   "source": [
    "xTest.shape"
   ]
  },
  {
   "cell_type": "markdown",
   "metadata": {},
   "source": [
    "#### Exploratory Analysis- To understand correlation between predictors and response variable"
   ]
  },
  {
   "cell_type": "markdown",
   "metadata": {},
   "source": [
    "##### From the correlation plot obtained, it can be interpreted that Min E5,Base_Time is negatively correlated with the target variable.Other features do not seem to be correlated strongly with the target variable."
   ]
  },
  {
   "cell_type": "code",
   "execution_count": 450,
   "metadata": {},
   "outputs": [
    {
     "data": {
      "text/plain": [
       "<matplotlib.axes._subplots.AxesSubplot at 0x1a1c14aa90>"
      ]
     },
     "execution_count": 450,
     "metadata": {},
     "output_type": "execute_result"
    },
    {
     "data": {
      "image/png": "[encoded data removed]",
      "text/plain": [
       "<Figure size 1440x1080 with 2 Axes>"
      ]
     },
     "metadata": {},
     "output_type": "display_data"
    }
   ],
   "source": [
    "plt.subplots(figsize=(20,15))\n",
    "sns.heatmap(df.corr())"
   ]
  },
  {
   "cell_type": "markdown",
   "metadata": {},
   "source": [
    "#### Based on exploratory data analysis and intuition, it seems that most important variable in predicting the comments in next  H hours should be post features like- likes,shares,length of post. Intrinsic features like when the post was made(CC1,CC2.CC3,CC4,CC5) also seem relevant. These have been included in model to experiment, later a legitimate approach is used to determine true relevant features of target variable."
   ]
  },
  {
   "cell_type": "code",
   "execution_count": 335,
   "metadata": {},
   "outputs": [],
   "source": [
    "colsSelected=['Page_Popularity','Page_Checkins','Page_talking_about','Base_Time','Post_length',\n",
    "       'Post_share_count','Post_promotion_status','CC1','CC2','CC3','CC4','CC5','H_local']"
   ]
  },
  {
   "cell_type": "code",
   "execution_count": 464,
   "metadata": {},
   "outputs": [
    {
     "data": {
      "text/html": [
       "<div>\n",
       "<style scoped>\n",
       "    .dataframe tbody tr th:only-of-type {\n",
       "        vertical-align: middle;\n",
       "    }\n",
       "\n",
       "    .dataframe tbody tr th {\n",
       "        vertical-align: top;\n",
       "    }\n",
       "\n",
       "    .dataframe thead th {\n",
       "        text-align: right;\n",
       "    }\n",
       "</style>\n",
       "<table border=\"1\" class=\"dataframe\">\n",
       "  <thead>\n",
       "    <tr style=\"text-align: right;\">\n",
       "      <th></th>\n",
       "      <th>Page_Popularity</th>\n",
       "      <th>Page_Checkins</th>\n",
       "      <th>Page_talking_about</th>\n",
       "      <th>Base_Time</th>\n",
       "      <th>Post_length</th>\n",
       "      <th>Post_share_count</th>\n",
       "      <th>Post_promotion_status</th>\n",
       "      <th>CC1</th>\n",
       "      <th>CC2</th>\n",
       "      <th>CC3</th>\n",
       "      <th>CC4</th>\n",
       "      <th>CC5</th>\n",
       "      <th>H_local</th>\n",
       "    </tr>\n",
       "  </thead>\n",
       "  <tbody>\n",
       "    <tr>\n",
       "      <th>143059</th>\n",
       "      <td>1340759</td>\n",
       "      <td>33935</td>\n",
       "      <td>49392</td>\n",
       "      <td>15</td>\n",
       "      <td>53</td>\n",
       "      <td>55</td>\n",
       "      <td>0</td>\n",
       "      <td>46</td>\n",
       "      <td>46</td>\n",
       "      <td>0</td>\n",
       "      <td>46</td>\n",
       "      <td>46</td>\n",
       "      <td>24</td>\n",
       "    </tr>\n",
       "    <tr>\n",
       "      <th>84923</th>\n",
       "      <td>3280313</td>\n",
       "      <td>1</td>\n",
       "      <td>39324</td>\n",
       "      <td>67</td>\n",
       "      <td>367</td>\n",
       "      <td>1942</td>\n",
       "      <td>0</td>\n",
       "      <td>460</td>\n",
       "      <td>10</td>\n",
       "      <td>91</td>\n",
       "      <td>401</td>\n",
       "      <td>-81</td>\n",
       "      <td>24</td>\n",
       "    </tr>\n",
       "    <tr>\n",
       "      <th>127752</th>\n",
       "      <td>274207</td>\n",
       "      <td>0</td>\n",
       "      <td>100435</td>\n",
       "      <td>14</td>\n",
       "      <td>47</td>\n",
       "      <td>25</td>\n",
       "      <td>0</td>\n",
       "      <td>161</td>\n",
       "      <td>161</td>\n",
       "      <td>0</td>\n",
       "      <td>161</td>\n",
       "      <td>161</td>\n",
       "      <td>24</td>\n",
       "    </tr>\n",
       "    <tr>\n",
       "      <th>52483</th>\n",
       "      <td>3159268</td>\n",
       "      <td>0</td>\n",
       "      <td>155474</td>\n",
       "      <td>22</td>\n",
       "      <td>318</td>\n",
       "      <td>14</td>\n",
       "      <td>0</td>\n",
       "      <td>14</td>\n",
       "      <td>14</td>\n",
       "      <td>0</td>\n",
       "      <td>14</td>\n",
       "      <td>14</td>\n",
       "      <td>24</td>\n",
       "    </tr>\n",
       "    <tr>\n",
       "      <th>52516</th>\n",
       "      <td>3159268</td>\n",
       "      <td>0</td>\n",
       "      <td>155474</td>\n",
       "      <td>15</td>\n",
       "      <td>102</td>\n",
       "      <td>16</td>\n",
       "      <td>0</td>\n",
       "      <td>5</td>\n",
       "      <td>5</td>\n",
       "      <td>0</td>\n",
       "      <td>5</td>\n",
       "      <td>5</td>\n",
       "      <td>12</td>\n",
       "    </tr>\n",
       "  </tbody>\n",
       "</table>\n",
       "</div>"
      ],
      "text/plain": [
       "        Page_Popularity  Page_Checkins  Page_talking_about  Base_Time  \\\n",
       "143059          1340759          33935               49392         15   \n",
       "84923           3280313              1               39324         67   \n",
       "127752           274207              0              100435         14   \n",
       "52483           3159268              0              155474         22   \n",
       "52516           3159268              0              155474         15   \n",
       "\n",
       "        Post_length  Post_share_count  Post_promotion_status  CC1  CC2  CC3  \\\n",
       "143059           53                55                      0   46   46    0   \n",
       "84923           367              1942                      0  460   10   91   \n",
       "127752           47                25                      0  161  161    0   \n",
       "52483           318                14                      0   14   14    0   \n",
       "52516           102                16                      0    5    5    0   \n",
       "\n",
       "        CC4  CC5  H_local  \n",
       "143059   46   46       24  \n",
       "84923   401  -81       24  \n",
       "127752  161  161       24  \n",
       "52483    14   14       24  \n",
       "52516     5    5       12  "
      ]
     },
     "execution_count": 464,
     "metadata": {},
     "output_type": "execute_result"
    }
   ],
   "source": [
    "xTest_sub,xTrain_sub=xTest[colsSelected],xTrain[colsSelected]\n",
    "xTrain_sub.head()"
   ]
  },
  {
   "cell_type": "code",
   "execution_count": 15,
   "metadata": {},
   "outputs": [
    {
     "data": {
      "text/plain": [
       "(112987, 13)"
      ]
     },
     "execution_count": 15,
     "metadata": {},
     "output_type": "execute_result"
    }
   ],
   "source": [
    "xTrain_sub.shape"
   ]
  },
  {
   "cell_type": "code",
   "execution_count": 16,
   "metadata": {},
   "outputs": [
    {
     "data": {
      "text/plain": [
       "(48423, 13)"
      ]
     },
     "execution_count": 16,
     "metadata": {},
     "output_type": "execute_result"
    }
   ],
   "source": [
    "xTest_sub.shape"
   ]
  },
  {
   "cell_type": "code",
   "execution_count": 337,
   "metadata": {},
   "outputs": [
    {
     "data": {
      "text/plain": [
       "(112987,)"
      ]
     },
     "execution_count": 337,
     "metadata": {},
     "output_type": "execute_result"
    }
   ],
   "source": [
    "xTrain_matrix=np.array(xTrain_sub)\n",
    "xTest_matrix=np.array(xTest_sub)\n",
    "yTrain_vector=np.array(yTrain)\n",
    "yTest_vector=np.array(yTest)\n",
    "yTrain_vector.shape"
   ]
  },
  {
   "cell_type": "code",
   "execution_count": 18,
   "metadata": {},
   "outputs": [
    {
     "data": {
      "text/plain": [
       "(48423,)"
      ]
     },
     "execution_count": 18,
     "metadata": {},
     "output_type": "execute_result"
    }
   ],
   "source": [
    "yTest_vector.shape"
   ]
  },
  {
   "cell_type": "code",
   "execution_count": 19,
   "metadata": {},
   "outputs": [
    {
     "data": {
      "text/plain": [
       "(112987, 13)"
      ]
     },
     "execution_count": 19,
     "metadata": {},
     "output_type": "execute_result"
    }
   ],
   "source": [
    "xTrain_matrix.shape"
   ]
  },
  {
   "cell_type": "markdown",
   "metadata": {},
   "source": [
    "#### Plotting the frequency distribution of the selected variables to understand the spread of the data"
   ]
  },
  {
   "cell_type": "code",
   "execution_count": 25,
   "metadata": {},
   "outputs": [],
   "source": [
    "def feature_distribution(xTrain):\n",
    "    plt.figure(figsize=(10,4))\n",
    "    plt.grid(True)\n",
    "    plt.xlim([-100,5000])\n",
    "    plt.ylim([0,100])\n",
    "    plt.subplot(2,2,1)\n",
    "    myplot = plt.hist(xTrain[:,0],label = 'Page_Popularity')\n",
    "    plt.xlabel('Column Value')\n",
    "    plt.ylabel('Counts')\n",
    "    myplot = plt.legend()\n",
    "    plt.subplot(2,2,2)\n",
    "    myplot = plt.hist(xTrain[:,1],label = 'Page_Checkins')\n",
    "    plt.xlabel('Column Value')\n",
    "    plt.ylabel('Counts')\n",
    "    myplot = plt.legend()\n",
    "    plt.subplot(2,2,3)\n",
    "    myplot = plt.hist(xTrain[:,2],label = 'Page_talking_about')\n",
    "    plt.xlabel('Column Value')\n",
    "    plt.ylabel('Counts')\n",
    "    myplot = plt.legend()\n",
    "    plt.subplot(2,2,4)\n",
    "    myplot = plt.hist(xTrain[:,4],label = 'Post_length')\n",
    "    #plt.title('Histogram for columns 1,2,3,4')\n",
    "    plt.xlabel('Column Value')\n",
    "    plt.ylabel('Counts')\n",
    "    myplot = plt.legend()"
   ]
  },
  {
   "cell_type": "code",
   "execution_count": 26,
   "metadata": {},
   "outputs": [
    {
     "data": {
      "image/png": "[encoded data removed]",
      "text/plain": [
       "<Figure size 720x288 with 4 Axes>"
      ]
     },
     "metadata": {},
     "output_type": "display_data"
    }
   ],
   "source": [
    "feature_distribution(xTrain_matrix)"
   ]
  },
  {
   "cell_type": "markdown",
   "metadata": {},
   "source": [
    "#### Due to varying magnitude of features, we need to perform feature normalisation. The method below subtracts the mean and divides the value by standard deviation to scale the values"
   ]
  },
  {
   "cell_type": "code",
   "execution_count": 338,
   "metadata": {},
   "outputs": [],
   "source": [
    "def normaliseData(X):\n",
    "    scaler=preprocessing.StandardScaler().fit(X)\n",
    "    Xnorm=scaler.transform(X)\n",
    "    return Xnorm"
   ]
  },
  {
   "cell_type": "code",
   "execution_count": 345,
   "metadata": {},
   "outputs": [
    {
     "data": {
      "text/plain": [
       "array([[ 0.00529471,  1.41442944,  0.03223076, ..., -0.05191557,\n",
       "         0.46018181,  0.13275699],\n",
       "       [ 0.31645122, -0.22694402, -0.05477158, ...,  2.67237297,\n",
       "        -0.86358244,  0.13275699],\n",
       "       [-0.16580884, -0.22699239,  0.47331741, ...,  0.83060044,\n",
       "         1.65886597,  0.13275699],\n",
       "       ...,\n",
       "       [ 1.45187821, -0.22694402,  1.82114507, ...,  0.30109083,\n",
       "         0.93965547,  0.13275699],\n",
       "       [ 0.10452176, -0.22699239, -0.28535197, ..., -0.19004851,\n",
       "        -0.01929186,  0.13275699],\n",
       "       [-0.18169206, -0.22699239,  0.07938728, ...,  0.20900221,\n",
       "        -0.20691199,  0.13275699]])"
      ]
     },
     "execution_count": 345,
     "metadata": {},
     "output_type": "execute_result"
    }
   ],
   "source": [
    "xTrain_matrix=normaliseData(xTrain_matrix)\n",
    "xTrain_matrix"
   ]
  },
  {
   "cell_type": "code",
   "execution_count": 344,
   "metadata": {},
   "outputs": [
    {
     "data": {
      "text/plain": [
       "array([[-1.69026874e-01, -2.21242793e-01, -3.70515000e-01, ...,\n",
       "        -4.10097581e-01, -2.16851731e-02,  1.34237072e-01],\n",
       "       [-1.65527550e-01, -2.15114022e-01, -3.73539757e-01, ...,\n",
       "        -4.10097581e-01, -2.16851731e-02,  1.34237072e-01],\n",
       "       [ 2.49968788e-02, -2.21242793e-01, -1.07449411e-01, ...,\n",
       "         1.14440359e+00,  2.07399797e+00,  1.34237072e-01],\n",
       "       ...,\n",
       "       [ 7.51198045e-01, -1.51023228e-01,  1.37120738e+00, ...,\n",
       "        -4.10097581e-01, -2.16851731e-02,  1.34237072e-01],\n",
       "       [-1.68699364e-01, -2.21242793e-01, -3.78417879e-01, ...,\n",
       "        -3.94782299e-01, -1.03804854e-03,  1.34237072e-01],\n",
       "       [-1.43637306e-01, -2.20292596e-01, -3.77094047e-01, ...,\n",
       "        -4.10097581e-01, -2.16851731e-02,  1.34237072e-01]])"
      ]
     },
     "execution_count": 344,
     "metadata": {},
     "output_type": "execute_result"
    }
   ],
   "source": [
    "xTest_matrix=normaliseData(xTest_matrix)\n",
    "xTest_matrix"
   ]
  },
  {
   "cell_type": "code",
   "execution_count": 465,
   "metadata": {},
   "outputs": [
    {
     "data": {
      "image/png": "[encoded data removed]",
      "text/plain": [
       "<Figure size 720x288 with 4 Axes>"
      ]
     },
     "metadata": {},
     "output_type": "display_data"
    }
   ],
   "source": [
    "feature_distribution(XtrainNorm)"
   ]
  },
  {
   "cell_type": "code",
   "execution_count": null,
   "metadata": {},
   "outputs": [],
   "source": [
    "#Implementation of Gradient Descent:\n"
   ]
  },
  {
   "cell_type": "code",
   "execution_count": null,
   "metadata": {},
   "outputs": [],
   "source": [
    "#Add column of ones for bias initialisation"
   ]
  },
  {
   "cell_type": "code",
   "execution_count": 346,
   "metadata": {},
   "outputs": [
    {
     "data": {
      "text/plain": [
       "array([[ 1.        ,  0.00529471,  1.41442944, ..., -0.05191557,\n",
       "         0.46018181,  0.13275699],\n",
       "       [ 1.        ,  0.31645122, -0.22694402, ...,  2.67237297,\n",
       "        -0.86358244,  0.13275699],\n",
       "       [ 1.        , -0.16580884, -0.22699239, ...,  0.83060044,\n",
       "         1.65886597,  0.13275699],\n",
       "       ...,\n",
       "       [ 1.        ,  1.45187821, -0.22694402, ...,  0.30109083,\n",
       "         0.93965547,  0.13275699],\n",
       "       [ 1.        ,  0.10452176, -0.22699239, ..., -0.19004851,\n",
       "        -0.01929186,  0.13275699],\n",
       "       [ 1.        , -0.18169206, -0.22699239, ...,  0.20900221,\n",
       "        -0.20691199,  0.13275699]])"
      ]
     },
     "execution_count": 346,
     "metadata": {},
     "output_type": "execute_result"
    }
   ],
   "source": [
    "XtrainNorm=np.hstack((np.ones((xTrain_matrix.shape[0],1)),xTrain_matrix))\n",
    "XtestNorm=np.hstack((np.ones((xTest_matrix.shape[0],1)),xTest_matrix))\n",
    "XtrainNorm"
   ]
  },
  {
   "cell_type": "code",
   "execution_count": 347,
   "metadata": {},
   "outputs": [
    {
     "data": {
      "text/plain": [
       "(112987, 14)"
      ]
     },
     "execution_count": 347,
     "metadata": {},
     "output_type": "execute_result"
    }
   ],
   "source": [
    "XtrainNorm.shape"
   ]
  },
  {
   "cell_type": "code",
   "execution_count": 348,
   "metadata": {},
   "outputs": [
    {
     "data": {
      "text/plain": [
       "array([[ 1.00000000e+00, -1.69026874e-01, -2.21242793e-01, ...,\n",
       "        -4.10097581e-01, -2.16851731e-02,  1.34237072e-01],\n",
       "       [ 1.00000000e+00, -1.65527550e-01, -2.15114022e-01, ...,\n",
       "        -4.10097581e-01, -2.16851731e-02,  1.34237072e-01],\n",
       "       [ 1.00000000e+00,  2.49968788e-02, -2.21242793e-01, ...,\n",
       "         1.14440359e+00,  2.07399797e+00,  1.34237072e-01],\n",
       "       ...,\n",
       "       [ 1.00000000e+00,  7.51198045e-01, -1.51023228e-01, ...,\n",
       "        -4.10097581e-01, -2.16851731e-02,  1.34237072e-01],\n",
       "       [ 1.00000000e+00, -1.68699364e-01, -2.21242793e-01, ...,\n",
       "        -3.94782299e-01, -1.03804854e-03,  1.34237072e-01],\n",
       "       [ 1.00000000e+00, -1.43637306e-01, -2.20292596e-01, ...,\n",
       "        -4.10097581e-01, -2.16851731e-02,  1.34237072e-01]])"
      ]
     },
     "execution_count": 348,
     "metadata": {},
     "output_type": "execute_result"
    }
   ],
   "source": [
    "XtestNorm"
   ]
  },
  {
   "cell_type": "code",
   "execution_count": 349,
   "metadata": {},
   "outputs": [],
   "source": [
    "XtrainMatrix= np.matrix(XtrainNorm) \n",
    "yTrain = np.matrix(yTrain_vector).T"
   ]
  },
  {
   "cell_type": "code",
   "execution_count": 350,
   "metadata": {},
   "outputs": [],
   "source": [
    "XtestMatrix = np.matrix(XtestNorm)  \n",
    "yTest = np.matrix(yTest_vector).T"
   ]
  },
  {
   "cell_type": "code",
   "execution_count": 353,
   "metadata": {},
   "outputs": [],
   "source": [
    "def computeCost(X,y,theta):\n",
    "    error=np.power(((X * theta.T) - y), 2)\n",
    "    return np.sum(error) / (2 * len(X))"
   ]
  },
  {
   "cell_type": "code",
   "execution_count": 354,
   "metadata": {},
   "outputs": [],
   "source": [
    "def gradientDescent(Xtrain, ytrain,Xtest,ytest, theta, alpha, iters,threshold=0.001):\n",
    "    temp=np.matrix(np.zeros(theta.shape))\n",
    "    parameters=int(theta.shape[1])\n",
    "    trainCost = np.zeros(iters)\n",
    "    testCost=np.zeros(iters)\n",
    "    for i in range(iters):\n",
    "        error=(Xtrain * theta.T) - ytrain\n",
    "        for j in range(parameters):\n",
    "            term=np.multiply(error, Xtrain[:,j])\n",
    "            temp[0,j]=theta[0,j] - ((alpha / len(Xtrain)) * np.sum(term))    \n",
    "        theta=temp\n",
    "        trainCost[i]=computeCost(Xtrain, ytrain, theta)\n",
    "        testCost[i]=computeCost(Xtest,ytest,theta)\n",
    "        \n",
    "        if i!=0 and trainCost[i-1]-trainCost[i]<threshold:\n",
    "            print('Converged in ',str(i),' iterations.')\n",
    "            break\n",
    "        \n",
    "    return theta,trainCost,testCost"
   ]
  },
  {
   "cell_type": "code",
   "execution_count": 355,
   "metadata": {},
   "outputs": [],
   "source": [
    "def plotLearningCurve(trainCost,testCost):\n",
    "    size=trainCost.size-trainCost[trainCost==0].size-1\n",
    "    fig, ax = plt.subplots(figsize=(10,8))\n",
    "    ax.plot(list(range(0,size)), trainCost[0:size], 'r')\n",
    "    ax.plot(list(range(0,size)), testCost[0:size], 'b')\n",
    "    ax.set_xlabel('Iterations')\n",
    "    ax.set_ylabel('Cost')\n",
    "    ax.set_title('Training/Testing Cost VS Iterations')"
   ]
  },
  {
   "cell_type": "markdown",
   "metadata": {},
   "source": [
    "#### Experiment 1:"
   ]
  },
  {
   "cell_type": "code",
   "execution_count": 356,
   "metadata": {},
   "outputs": [
    {
     "name": "stdout",
     "output_type": "stream",
     "text": [
      "Converged in  850  iterations.\n"
     ]
    },
    {
     "data": {
      "text/plain": [
       "matrix([[ 7.1996068 , -0.9812108 , -0.36310994,  2.69334853, -4.47690548,\n",
       "          0.17408569,  0.85708777,  0.        ,  1.46626356, 10.03371451,\n",
       "          2.22131079,  1.37361073,  6.34968243,  0.85021412]])"
      ]
     },
     "execution_count": 356,
     "metadata": {},
     "output_type": "execute_result"
    }
   ],
   "source": [
    "alpha=0.01\n",
    "iterations=1000\n",
    "theta=np.zeros((XtrainMatrix.shape[1],1)).T\n",
    "theta,trainCost,testCost= gradientDescent(XtrainMatrix,yTrain,XtestMatrix,yTest,theta,alpha,iterations)\n",
    "theta"
   ]
  },
  {
   "cell_type": "code",
   "execution_count": 288,
   "metadata": {},
   "outputs": [
    {
     "data": {
      "text/plain": [
       "417.94423959126027"
      ]
     },
     "execution_count": 288,
     "metadata": {},
     "output_type": "execute_result"
    }
   ],
   "source": [
    "computeCost(XtrainMatrix,yTrain,theta)"
   ]
  },
  {
   "cell_type": "code",
   "execution_count": 289,
   "metadata": {},
   "outputs": [
    {
     "data": {
      "text/plain": [
       "482.5352929477416"
      ]
     },
     "execution_count": 289,
     "metadata": {},
     "output_type": "execute_result"
    }
   ],
   "source": [
    "computeCost(XtestMatrix,yTest,theta)"
   ]
  },
  {
   "cell_type": "code",
   "execution_count": 290,
   "metadata": {},
   "outputs": [
    {
     "data": {
      "image/png": "[encoded data removed]",
      "text/plain": [
       "<Figure size 720x576 with 1 Axes>"
      ]
     },
     "metadata": {},
     "output_type": "display_data"
    }
   ],
   "source": [
    "plotLearningCurve(trainCost,testCost)"
   ]
  },
  {
   "cell_type": "code",
   "execution_count": 466,
   "metadata": {},
   "outputs": [
    {
     "name": "stdout",
     "output_type": "stream",
     "text": [
      "Converged in  2519  iterations.\n"
     ]
    },
    {
     "data": {
      "text/plain": [
       "matrix([[ 6.62233728, -0.52155649, -0.27135864,  2.17251846, -4.63043138,\n",
       "          0.15493132,  0.87111242,  0.        ,  2.59051376,  8.43224919,\n",
       "          0.56679082,  2.78482116,  6.34125937,  0.67317553]])"
      ]
     },
     "execution_count": 466,
     "metadata": {},
     "output_type": "execute_result"
    }
   ],
   "source": [
    "alpha=0.001\n",
    "iterations=3000\n",
    "theta=np.zeros((XtrainMatrix.shape[1],1)).T\n",
    "theta,trainCost,testCost = gradientDescent(XtrainMatrix,yTrain,XtestMatrix,yTest,theta,alpha,iterations)\n",
    "theta"
   ]
  },
  {
   "cell_type": "code",
   "execution_count": 206,
   "metadata": {},
   "outputs": [
    {
     "data": {
      "text/plain": [
       "419.7603309423511"
      ]
     },
     "execution_count": 206,
     "metadata": {},
     "output_type": "execute_result"
    }
   ],
   "source": [
    "computeCost(XtrainMatrix,yTrain,theta)"
   ]
  },
  {
   "cell_type": "code",
   "execution_count": 207,
   "metadata": {},
   "outputs": [
    {
     "data": {
      "text/plain": [
       "484.57556739175635"
      ]
     },
     "execution_count": 207,
     "metadata": {},
     "output_type": "execute_result"
    }
   ],
   "source": [
    "computeCost(XtestMatrix,yTest,theta)"
   ]
  },
  {
   "cell_type": "code",
   "execution_count": 208,
   "metadata": {},
   "outputs": [
    {
     "data": {
      "image/png": "[encoded data removed]",
      "text/plain": [
       "<Figure size 720x576 with 1 Axes>"
      ]
     },
     "metadata": {},
     "output_type": "display_data"
    }
   ],
   "source": [
    "plotLearningCurve(trainCost,testCost)"
   ]
  },
  {
   "cell_type": "code",
   "execution_count": 467,
   "metadata": {},
   "outputs": [
    {
     "name": "stdout",
     "output_type": "stream",
     "text": [
      "Converged in  291  iterations.\n"
     ]
    },
    {
     "data": {
      "text/plain": [
       "matrix([[ 7.20099432, -1.04049672, -0.35616674,  2.77658882, -4.31602048,\n",
       "          0.17519813,  0.85664923,  0.        ,  1.10318792, 10.73891546,\n",
       "          2.94538256,  0.64133356,  6.35686408,  0.87537636]])"
      ]
     },
     "execution_count": 467,
     "metadata": {},
     "output_type": "execute_result"
    }
   ],
   "source": [
    "alpha=0.05\n",
    "iterations=1000\n",
    "theta=np.zeros((XtrainMatrix.shape[1],1)).T\n",
    "theta,trainCost,testCost = gradientDescent(XtrainMatrix,yTrain,XtestMatrix,yTest,theta,alpha,iterations)\n",
    "theta"
   ]
  },
  {
   "cell_type": "code",
   "execution_count": 210,
   "metadata": {},
   "outputs": [
    {
     "data": {
      "text/plain": [
       "417.6461200663821"
      ]
     },
     "execution_count": 210,
     "metadata": {},
     "output_type": "execute_result"
    }
   ],
   "source": [
    "computeCost(XtrainMatrix,yTrain,theta)"
   ]
  },
  {
   "cell_type": "code",
   "execution_count": 211,
   "metadata": {},
   "outputs": [
    {
     "data": {
      "text/plain": [
       "482.219015660777"
      ]
     },
     "execution_count": 211,
     "metadata": {},
     "output_type": "execute_result"
    }
   ],
   "source": [
    "computeCost(XtestMatrix,yTest,theta)"
   ]
  },
  {
   "cell_type": "code",
   "execution_count": 212,
   "metadata": {},
   "outputs": [
    {
     "data": {
      "image/png": "[encoded data removed]",
      "text/plain": [
       "<Figure size 720x576 with 1 Axes>"
      ]
     },
     "metadata": {},
     "output_type": "display_data"
    }
   ],
   "source": [
    "plotLearningCurve(trainCost,testCost)"
   ]
  },
  {
   "cell_type": "code",
   "execution_count": 468,
   "metadata": {},
   "outputs": [
    {
     "name": "stdout",
     "output_type": "stream",
     "text": [
      "Converged in  175  iterations.\n"
     ]
    },
    {
     "data": {
      "text/plain": [
       "matrix([[ 7.20099651, -1.04788873, -0.35274534,  2.7881702 , -4.27490516,\n",
       "          0.17535359,  0.85759872,  0.        ,  1.05944272, 10.92242571,\n",
       "          3.13230073,  0.40350896,  6.3598947 ,  0.88013499]])"
      ]
     },
     "execution_count": 468,
     "metadata": {},
     "output_type": "execute_result"
    }
   ],
   "source": [
    "alpha=0.1\n",
    "iterations=1000\n",
    "theta=np.zeros((XtrainMatrix.shape[1],1)).T\n",
    "theta,trainCost,testCost = gradientDescent(XtrainMatrix,yTrain,XtestMatrix,yTest,theta,alpha,iterations)\n",
    "theta"
   ]
  },
  {
   "cell_type": "code",
   "execution_count": 214,
   "metadata": {},
   "outputs": [
    {
     "data": {
      "text/plain": [
       "417.60342956799826"
      ]
     },
     "execution_count": 214,
     "metadata": {},
     "output_type": "execute_result"
    }
   ],
   "source": [
    "computeCost(XtrainMatrix,yTrain,theta)"
   ]
  },
  {
   "cell_type": "code",
   "execution_count": 215,
   "metadata": {},
   "outputs": [
    {
     "data": {
      "text/plain": [
       "482.1727352984524"
      ]
     },
     "execution_count": 215,
     "metadata": {},
     "output_type": "execute_result"
    }
   ],
   "source": [
    "computeCost(XtestMatrix,yTest,theta)"
   ]
  },
  {
   "cell_type": "code",
   "execution_count": 216,
   "metadata": {},
   "outputs": [
    {
     "data": {
      "image/png": "[encoded data removed]",
      "text/plain": [
       "<Figure size 720x576 with 1 Axes>"
      ]
     },
     "metadata": {},
     "output_type": "display_data"
    }
   ],
   "source": [
    "plotLearningCurve(trainCost,testCost)"
   ]
  },
  {
   "cell_type": "markdown",
   "metadata": {},
   "source": [
    "#### Experiment 2:"
   ]
  },
  {
   "cell_type": "code",
   "execution_count": 474,
   "metadata": {},
   "outputs": [
    {
     "name": "stdout",
     "output_type": "stream",
     "text": [
      "Converged in  1756  iterations.\n"
     ]
    },
    {
     "data": {
      "text/plain": [
       "matrix([[ 7.20099642, -1.04754504, -0.35285106,  2.78765041, -4.27645352,\n",
       "          0.17534684,  0.857572  ,  0.        ,  1.06384348, 10.91567433,\n",
       "          3.12535533,  0.40955082,  6.35983627,  0.87994312]])"
      ]
     },
     "execution_count": 474,
     "metadata": {},
     "output_type": "execute_result"
    }
   ],
   "source": [
    "convergence_criteria=0.0001\n",
    "iterations=5000\n",
    "alpha=0.01\n",
    "theta=np.zeros((XtrainMatrix.shape[1],1)).T\n",
    "theta,trainCost,testCost= gradientDescent(XtrainMatrix,yTrain,XtestMatrix,yTest,theta,alpha,iterations,convergence_criteria)\n",
    "theta"
   ]
  },
  {
   "cell_type": "code",
   "execution_count": 475,
   "metadata": {},
   "outputs": [
    {
     "data": {
      "text/plain": [
       "417.6045598644018"
      ]
     },
     "execution_count": 475,
     "metadata": {},
     "output_type": "execute_result"
    }
   ],
   "source": [
    "computeCost(XtrainMatrix,yTrain,theta)"
   ]
  },
  {
   "cell_type": "code",
   "execution_count": 476,
   "metadata": {},
   "outputs": [
    {
     "data": {
      "text/plain": [
       "482.1740850778019"
      ]
     },
     "execution_count": 476,
     "metadata": {},
     "output_type": "execute_result"
    }
   ],
   "source": [
    "computeCost(XtestMatrix,yTest,theta)"
   ]
  },
  {
   "cell_type": "code",
   "execution_count": 219,
   "metadata": {},
   "outputs": [
    {
     "data": {
      "image/png": "[encoded data removed]",
      "text/plain": [
       "<Figure size 720x576 with 1 Axes>"
      ]
     },
     "metadata": {},
     "output_type": "display_data"
    }
   ],
   "source": [
    "plotLearningCurve(trainCost,testCost)"
   ]
  },
  {
   "cell_type": "code",
   "execution_count": 477,
   "metadata": {},
   "outputs": [
    {
     "name": "stdout",
     "output_type": "stream",
     "text": [
      "Converged in  850  iterations.\n"
     ]
    },
    {
     "data": {
      "text/plain": [
       "matrix([[ 7.1996068 , -0.9812108 , -0.36310994,  2.69334853, -4.47690548,\n",
       "          0.17408569,  0.85708777,  0.        ,  1.46626356, 10.03371451,\n",
       "          2.22131079,  1.37361073,  6.34968243,  0.85021412]])"
      ]
     },
     "execution_count": 477,
     "metadata": {},
     "output_type": "execute_result"
    }
   ],
   "source": [
    "convergence_criteria=0.001\n",
    "iterations=5000\n",
    "alpha=0.01\n",
    "theta=np.zeros((XtrainMatrix.shape[1],1)).T\n",
    "theta,trainCost,testCost= gradientDescent(XtrainMatrix,yTrain,XtestMatrix,yTest,theta,alpha,iterations,convergence_criteria)\n",
    "theta"
   ]
  },
  {
   "cell_type": "code",
   "execution_count": 225,
   "metadata": {},
   "outputs": [
    {
     "data": {
      "image/png": "[encoded data removed]",
      "text/plain": [
       "<Figure size 720x576 with 1 Axes>"
      ]
     },
     "metadata": {},
     "output_type": "display_data"
    }
   ],
   "source": [
    "plotLearningCurve(trainCost,testCost)"
   ]
  },
  {
   "cell_type": "code",
   "execution_count": 478,
   "metadata": {},
   "outputs": [
    {
     "name": "stdout",
     "output_type": "stream",
     "text": [
      "Converged in  120  iterations.\n"
     ]
    },
    {
     "data": {
      "text/plain": [
       "matrix([[ 5.06671777, -0.0944296 , -0.08110756,  1.92234483, -4.03734487,\n",
       "          0.1156209 ,  0.91697611,  0.        ,  2.95593343,  7.43004335,\n",
       "          0.16049513,  3.17184349,  5.84960948,  0.42789192]])"
      ]
     },
     "execution_count": 478,
     "metadata": {},
     "output_type": "execute_result"
    }
   ],
   "source": [
    "convergence_criteria=0.1\n",
    "iterations=1000\n",
    "alpha=0.01\n",
    "theta=np.zeros((XtrainMatrix.shape[1],1)).T\n",
    "theta,trainCost,testCost= gradientDescent(XtrainMatrix,yTrain,XtestMatrix,yTest,theta,alpha,iterations,convergence_criteria)\n",
    "theta"
   ]
  },
  {
   "cell_type": "code",
   "execution_count": 479,
   "metadata": {},
   "outputs": [
    {
     "data": {
      "text/plain": [
       "424.02985170242505"
      ]
     },
     "execution_count": 479,
     "metadata": {},
     "output_type": "execute_result"
    }
   ],
   "source": [
    "computeCost(XtrainMatrix,yTrain,theta)"
   ]
  },
  {
   "cell_type": "code",
   "execution_count": 480,
   "metadata": {},
   "outputs": [
    {
     "data": {
      "text/plain": [
       "489.8246702545922"
      ]
     },
     "execution_count": 480,
     "metadata": {},
     "output_type": "execute_result"
    }
   ],
   "source": [
    "computeCost(XtestMatrix,yTest,theta)"
   ]
  },
  {
   "cell_type": "code",
   "execution_count": 373,
   "metadata": {},
   "outputs": [
    {
     "data": {
      "image/png": "[encoded data removed]",
      "text/plain": [
       "<Figure size 720x576 with 1 Axes>"
      ]
     },
     "metadata": {},
     "output_type": "display_data"
    }
   ],
   "source": [
    "plotLearningCurve(trainCost,testCost)"
   ]
  },
  {
   "cell_type": "markdown",
   "metadata": {},
   "source": [
    "#### Experiment 3:"
   ]
  },
  {
   "cell_type": "code",
   "execution_count": 357,
   "metadata": {},
   "outputs": [],
   "source": [
    "randomCols=['Page_Popularity','Page_Checkins','Page_talking_about','H_local','Post_length']"
   ]
  },
  {
   "cell_type": "code",
   "execution_count": 403,
   "metadata": {},
   "outputs": [
    {
     "data": {
      "text/plain": [
       "(112987, 5)"
      ]
     },
     "execution_count": 403,
     "metadata": {},
     "output_type": "execute_result"
    }
   ],
   "source": [
    "XtrainRandom=xTrain[randomCols]\n",
    "XtrainRandom=np.matrix(XtrainRandom)\n",
    "XtrainRandom=normaliseData(XtrainRandom)\n",
    "XtrainRandom.shape"
   ]
  },
  {
   "cell_type": "code",
   "execution_count": 404,
   "metadata": {},
   "outputs": [
    {
     "data": {
      "text/plain": [
       "(48423, 5)"
      ]
     },
     "execution_count": 404,
     "metadata": {},
     "output_type": "execute_result"
    }
   ],
   "source": [
    "XtestRandom=xTest[randomCols]\n",
    "XtestRandom=np.matrix(XtestRandom)\n",
    "XtestRandom=normaliseData(XtestRandom)\n",
    "XtestRandom.shape"
   ]
  },
  {
   "cell_type": "code",
   "execution_count": 405,
   "metadata": {},
   "outputs": [],
   "source": [
    "XtrainRandom=np.hstack((np.ones((XtrainRandom.shape[0],1)),XtrainRandom))\n",
    "XtrainRandom=np.matrix(XtrainRandom)\n",
    "XtestRandom=np.hstack((np.ones((XtestRandom.shape[0],1)),XtestRandom))\n",
    "XtestRandom=np.matrix(XtestRandom)"
   ]
  },
  {
   "cell_type": "code",
   "execution_count": 408,
   "metadata": {},
   "outputs": [
    {
     "name": "stdout",
     "output_type": "stream",
     "text": [
      "Converged in  579  iterations.\n"
     ]
    },
    {
     "data": {
      "text/plain": [
       "matrix([[ 7.17982245, -1.97706776, -0.03563076,  7.67592423,  0.89589093,\n",
       "          0.21156507]])"
      ]
     },
     "execution_count": 408,
     "metadata": {},
     "output_type": "execute_result"
    }
   ],
   "source": [
    "iterations=1000\n",
    "alpha=0.01\n",
    "theta=np.zeros((XtrainRandom.shape[1],1)).T\n",
    "theta,trainCost,testCost= gradientDescent(XtrainRandom,yTrain,XtestRandom,yTest,theta,alpha,iterations)\n",
    "theta"
   ]
  },
  {
   "cell_type": "code",
   "execution_count": 409,
   "metadata": {},
   "outputs": [
    {
     "data": {
      "text/plain": [
       "572.4734401276282"
      ]
     },
     "execution_count": 409,
     "metadata": {},
     "output_type": "execute_result"
    }
   ],
   "source": [
    "computeCost(XtrainRandom,yTrain,theta)"
   ]
  },
  {
   "cell_type": "code",
   "execution_count": 410,
   "metadata": {},
   "outputs": [
    {
     "data": {
      "text/plain": [
       "649.4751150332621"
      ]
     },
     "execution_count": 410,
     "metadata": {},
     "output_type": "execute_result"
    }
   ],
   "source": [
    "computeCost(XtestRandom,yTest,theta)"
   ]
  },
  {
   "cell_type": "code",
   "execution_count": 411,
   "metadata": {},
   "outputs": [
    {
     "data": {
      "image/png": "[encoded data removed]",
      "text/plain": [
       "<Figure size 720x576 with 1 Axes>"
      ]
     },
     "metadata": {},
     "output_type": "display_data"
    }
   ],
   "source": [
    "plotLearningCurve(trainCost,testCost)"
   ]
  },
  {
   "cell_type": "markdown",
   "metadata": {},
   "source": [
    "#### Experiment 4:"
   ]
  },
  {
   "cell_type": "code",
   "execution_count": 453,
   "metadata": {},
   "outputs": [
    {
     "name": "stdout",
     "output_type": "stream",
     "text": [
      "[0.00798803 0.00580345 0.00744221 0.00768591 0.00051711 0.00751331\n",
      " 0.00962049 0.0143697  0.01227846 0.00026322 0.01135601 0.00727763\n",
      " 0.00688918 0.01030582 0.00001331 0.01188493 0.00787739 0.01682886\n",
      " 0.01366539 0.00054004 0.00924492 0.0212575  0.00939039 0.00748846\n",
      " 0.00970626 0.00778315 0.0072788  0.00561425 0.01197415 0.07232521\n",
      " 0.08526274 0.04029533 0.0648358  0.07362074 0.11858835 0.06560531\n",
      " 0.06856963 0.         0.00372352 0.01007772 0.01134558 0.01163262\n",
      " 0.01154737 0.01127756 0.01127598 0.01108814 0.01105285 0.01092062\n",
      " 0.01126585 0.01152478 0.01213777 0.01126172 0.0109065 ]\n"
     ]
    }
   ],
   "source": [
    "from sklearn.ensemble import ExtraTreesClassifier\n",
    "#To suppres exponenetial form of decimal values\n",
    "np.set_printoptions(suppress=True)\n",
    "model = ExtraTreesClassifier()\n",
    "model.fit(xTrain,yTrain)\n",
    "print(model.feature_importances_)"
   ]
  },
  {
   "cell_type": "code",
   "execution_count": 462,
   "metadata": {},
   "outputs": [
    {
     "data": {
      "text/plain": [
       "array([0.11858835, 0.08526274, 0.07362074, 0.07232521, 0.06856963,\n",
       "       0.06560531, 0.0648358 , 0.04029533, 0.0212575 ])"
      ]
     },
     "execution_count": 462,
     "metadata": {},
     "output_type": "execute_result"
    }
   ],
   "source": [
    "arr[::-1][0:6]"
   ]
  },
  {
   "cell_type": "code",
   "execution_count": 454,
   "metadata": {},
   "outputs": [
    {
     "data": {
      "text/plain": [
       "array([34, 30, 33, 29, 36])"
      ]
     },
     "execution_count": 454,
     "metadata": {},
     "output_type": "execute_result"
    }
   ],
   "source": [
    "arr=np.sort(model.feature_importances_,axis=None)\n",
    "model.feature_importances_.argsort()[-5:][::-1]"
   ]
  },
  {
   "cell_type": "code",
   "execution_count": 435,
   "metadata": {},
   "outputs": [
    {
     "data": {
      "text/plain": [
       "matrix([[ 1.        ,  0.46018181, -0.07129868, -0.05191557, -0.29449003,\n",
       "         -0.97360898],\n",
       "        [ 1.        , -0.86358244,  2.89578162,  2.67237297,  0.53750327,\n",
       "          1.5005758 ],\n",
       "        [ 1.        ,  1.65886597,  0.75289029,  0.83060044, -0.31038799,\n",
       "         -1.02118945],\n",
       "        ...,\n",
       "        [ 1.        ,  0.93965547,  0.25837691,  0.30109083, -0.21500023,\n",
       "         -1.06876993],\n",
       "        [ 1.        , -0.01929186, -0.157301  , -0.19004851, -0.22824853,\n",
       "          1.45299532],\n",
       "        [ 1.        , -0.20691199,  0.37304668,  0.20900221, -0.43492202,\n",
       "          0.88202961]])"
      ]
     },
     "execution_count": 435,
     "metadata": {},
     "output_type": "execute_result"
    }
   ],
   "source": [
    "xSelectTrain=xTrain[['CC5','CC1','CC4','Post_length','Base_Time']]\n",
    "xSelectTrain=normaliseData(xSelectTrain)\n",
    "xSelectTrain=np.hstack((np.ones((xSelectTrain.shape[0],1)),xSelectTrain))\n",
    "xSelectTrain=np.matrix(xSelectTrain)\n",
    "xSelectTrain"
   ]
  },
  {
   "cell_type": "code",
   "execution_count": 436,
   "metadata": {},
   "outputs": [
    {
     "data": {
      "text/plain": [
       "matrix([[ 1.00000000e+00, -2.16851731e-02, -4.06715927e-01,\n",
       "         -4.10097581e-01, -3.96441768e-01, -9.20763752e-01],\n",
       "        [ 1.00000000e+00, -2.16851731e-02, -4.06715927e-01,\n",
       "         -4.10097581e-01,  1.18839886e+00, -1.39608969e+00],\n",
       "        [ 1.00000000e+00,  2.07399797e+00,  1.05036054e+00,\n",
       "          1.14440359e+00, -1.90999464e-01, -1.25349191e+00],\n",
       "        ...,\n",
       "        [ 1.00000000e+00, -2.16851731e-02, -4.06715927e-01,\n",
       "         -4.10097581e-01,  5.42723049e-01, -1.68128525e+00],\n",
       "        [ 1.00000000e+00, -1.03804854e-03, -3.92360494e-01,\n",
       "         -3.94782299e-01, -1.24297417e-01, -1.34855709e+00],\n",
       "        [ 1.00000000e+00, -2.16851731e-02, -4.06715927e-01,\n",
       "         -4.10097581e-01, -4.33794914e-01,  1.59846371e+00]])"
      ]
     },
     "execution_count": 436,
     "metadata": {},
     "output_type": "execute_result"
    }
   ],
   "source": [
    "xSelectTest=xTest[['CC5','CC1','CC4','Post_length','Base_Time']]\n",
    "xSelectTest=normaliseData(xSelectTest)\n",
    "xSelectTest=np.hstack((np.ones((xSelectTest.shape[0],1)),xSelectTest))\n",
    "xSelectTest=np.matrix(xSelectTest)\n",
    "xSelectTest"
   ]
  },
  {
   "cell_type": "code",
   "execution_count": 481,
   "metadata": {},
   "outputs": [
    {
     "name": "stdout",
     "output_type": "stream",
     "text": [
      "Converged in  47  iterations.\n"
     ]
    },
    {
     "data": {
      "text/plain": [
       "matrix([[ 7.1551789 , 11.43657205,  5.73620492,  6.26096372,  0.14502573,\n",
       "         -5.69215957]])"
      ]
     },
     "execution_count": 481,
     "metadata": {},
     "output_type": "execute_result"
    }
   ],
   "source": [
    "iterations=1000\n",
    "alpha=0.1\n",
    "theta=np.zeros((XtrainRandom.shape[1],1)).T\n",
    "theta,trainCost,testCost= gradientDescent(xSelectTrain,yTrain,xSelectTest,yTest,theta,alpha,iterations)\n",
    "theta"
   ]
  },
  {
   "cell_type": "code",
   "execution_count": 482,
   "metadata": {},
   "outputs": [
    {
     "data": {
      "text/plain": [
       "432.75686173537025"
      ]
     },
     "execution_count": 482,
     "metadata": {},
     "output_type": "execute_result"
    }
   ],
   "source": [
    "computeCost(xSelectTrain,yTrain,theta)"
   ]
  },
  {
   "cell_type": "code",
   "execution_count": 483,
   "metadata": {},
   "outputs": [
    {
     "data": {
      "text/plain": [
       "498.12144950537527"
      ]
     },
     "execution_count": 483,
     "metadata": {},
     "output_type": "execute_result"
    }
   ],
   "source": [
    "computeCost(xSelectTest,yTest,theta)"
   ]
  },
  {
   "cell_type": "code",
   "execution_count": 440,
   "metadata": {},
   "outputs": [
    {
     "data": {
      "image/png": "[encoded data removed]",
      "text/plain": [
       "<Figure size 720x576 with 1 Axes>"
      ]
     },
     "metadata": {},
     "output_type": "display_data"
    }
   ],
   "source": [
    "plotLearningCurve(trainCost,testCost)"
   ]
  },
  {
   "cell_type": "markdown",
   "metadata": {},
   "source": [
    "## Final Equation:                                                               Comments_In_Next_Hhours=7.15+11.43*CC5+5.73*CC1+6.26*CC4+0.145*Post_Length-5.69*Base_time"
   ]
  },
  {
   "cell_type": "code",
   "execution_count": null,
   "metadata": {},
   "outputs": [],
   "source": [
    "#End"
   ]
  }
 ],
 "metadata": {
  "kernelspec": {
   "display_name": "Python 3",
   "language": "python",
   "name": "python3"
  },
  "language_info": {
   "codemirror_mode": {
    "name": "ipython",
    "version": 3
   },
   "file_extension": ".py",
   "mimetype": "text/x-python",
   "name": "python",
   "nbconvert_exporter": "python",
   "pygments_lexer": "ipython3",
   "version": "3.6.5"
  }
 },
 "nbformat": 4,
 "nbformat_minor": 2
}
